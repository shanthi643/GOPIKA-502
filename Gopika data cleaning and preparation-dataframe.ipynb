{
 "cells": [
  {
   "cell_type": "code",
   "execution_count": 4,
   "id": "e04fb317",
   "metadata": {
    "scrolled": true
   },
   "outputs": [
    {
     "name": "stdout",
     "output_type": "stream",
     "text": [
      "original DataFrame with NaN\n",
      "         one       two     three\n",
      "a  0.347065 -2.445172  1.116370\n",
      "b       NaN       NaN       NaN\n",
      "c  0.015745  1.127673  1.186365\n",
      "d -1.461174 -0.023085 -0.772354\n",
      "e       NaN       NaN       NaN\n",
      "f  0.759659  1.339595  0.181883\n",
      "\n",
      "\n",
      "Dropped DataFrame \n",
      "         one       two     three\n",
      "a  0.347065 -2.445172  1.116370\n",
      "c  0.015745  1.127673  1.186365\n",
      "d -1.461174 -0.023085 -0.772354\n",
      "f  0.759659  1.339595  0.181883\n",
      "\n",
      "\n"
     ]
    }
   ],
   "source": [
    "import pandas as pd\n",
    "import numpy as np\n",
    "df=pd.DataFrame(np.random.randn(4,3),index=['a','c','d','f'],columns=['one','two','three'])\n",
    "df=df.reindex(['a','b','c','d','e','f'])\n",
    "print(\"original DataFrame with NaN\\n\",df)\n",
    "print(\"\\n\")\n",
    "print(\"Dropped DataFrame \\n\",df.dropna())\n",
    "print(\"\\n\")"
   ]
  },
  {
   "cell_type": "code",
   "execution_count": 7,
   "id": "df366a8c",
   "metadata": {},
   "outputs": [
    {
     "name": "stdout",
     "output_type": "stream",
     "text": [
      "original DataFrame :\n",
      "         one       two     three\n",
      "a -1.030079 -0.564147  0.912389\n",
      "b       NaN       NaN       NaN\n",
      "c  0.295791 -1.480700  0.094884\n",
      "\n",
      "\n",
      "NaN replaced with '0'\n",
      "         one       two     three\n",
      "a -1.030079 -0.564147  0.912389\n",
      "b  0.000000  0.000000  0.000000\n",
      "c  0.295791 -1.480700  0.094884\n",
      "\n",
      "\n"
     ]
    }
   ],
   "source": [
    "import pandas as pd\n",
    "import numpy as np\n",
    "df=pd.DataFrame(np.random.randn(4,3),index=['a','c','d','f'],columns=['one','two','three'])\n",
    "df=df.reindex(['a','b','c'])\n",
    "print(\"original DataFrame :\\n\",df)\n",
    "print(\"\\n\")\n",
    "print(\"NaN replaced with '0'\\n\",df.fillna(0))\n",
    "print(\"\\n\")"
   ]
  },
  {
   "cell_type": "code",
   "execution_count": 12,
   "id": "6af4fabd",
   "metadata": {},
   "outputs": [
    {
     "name": "stdout",
     "output_type": "stream",
     "text": [
      "original DataFrame:\n",
      "    one  two\n",
      "0   10   60\n",
      "1   20   70\n",
      "2   80   80\n",
      "3   40    0\n",
      "4   50   10\n",
      "\n",
      " DataFrame with replaced values:\n",
      "\n",
      "   one  two\n",
      "0    5   60\n",
      "1   20   70\n",
      "2    3    3\n",
      "3   40    0\n",
      "4   50    5\n"
     ]
    }
   ],
   "source": [
    "df=pd.DataFrame({'one':[10,20,80,40,50],'two':[60,70,80,0,10]})\n",
    "print(\"original DataFrame:\\n\",df)\n",
    "print(\"\\n DataFrame with replaced values:\\n\")\n",
    "print(df.replace({10:5,80:3}))"
   ]
  },
  {
   "cell_type": "code",
   "execution_count": 13,
   "id": "84603c96",
   "metadata": {},
   "outputs": [
    {
     "name": "stdout",
     "output_type": "stream",
     "text": [
      "original DataFrame:\n",
      "         one       two     three\n",
      "a  0.985396  2.741768 -0.297254\n",
      "b       NaN       NaN       NaN\n",
      "c  1.470087 -0.800526 -0.116255\n",
      "d -0.937584 -0.047422  2.293229\n",
      "e       NaN       NaN       NaN\n",
      "f -0.723731 -0.116928 -0.761694\n",
      "\n",
      " NaN.with True fill:\n",
      "\n",
      "a    False\n",
      "b     True\n",
      "c    False\n",
      "d    False\n",
      "e     True\n",
      "f    False\n",
      "Name: one, dtype: bool\n"
     ]
    }
   ],
   "source": [
    "df=pd.DataFrame(np.random.randn(4,3),index=['a','c','d','f'],columns=['one','two','three'])\n",
    "df=df.reindex(['a','b','c','d','e','f'])\n",
    "print(\"original DataFrame:\\n\",df)\n",
    "print(\"\\n NaN.with True fill:\\n\")\n",
    "print(df['one'].isnull())"
   ]
  },
  {
   "cell_type": "code",
   "execution_count": 14,
   "id": "bf08a2fa",
   "metadata": {},
   "outputs": [
    {
     "name": "stdout",
     "output_type": "stream",
     "text": [
      "\n",
      " NaN-filled with Bachground values:\n",
      "\n",
      "        one       two     three\n",
      "a  0.985396  2.741768 -0.297254\n",
      "b  1.470087 -0.800526 -0.116255\n",
      "c  1.470087 -0.800526 -0.116255\n",
      "d -0.937584 -0.047422  2.293229\n",
      "e -0.723731 -0.116928 -0.761694\n",
      "f -0.723731 -0.116928 -0.761694\n"
     ]
    }
   ],
   "source": [
    "print(\"\\n NaN-filled with Bachground values:\\n\")\n",
    "print(df.fillna(method='bfill'))"
   ]
  },
  {
   "cell_type": "code",
   "execution_count": 15,
   "id": "888c6102",
   "metadata": {},
   "outputs": [
    {
     "name": "stdout",
     "output_type": "stream",
     "text": [
      "        one       two     three\n",
      "a  0.985396  2.741768 -0.297254\n",
      "b  1.470087 -0.800526 -0.116255\n",
      "c  1.470087 -0.800526 -0.116255\n",
      "d -0.937584 -0.047422  2.293229\n",
      "e -0.723731 -0.116928 -0.761694\n",
      "f -0.723731 -0.116928 -0.761694\n",
      "        one       two     three\n",
      "a  0.985396  2.741768 -0.297254\n",
      "b  0.985396  2.741768 -0.297254\n",
      "c  1.470087 -0.800526 -0.116255\n",
      "d -0.937584 -0.047422  2.293229\n",
      "e -0.937584 -0.047422  2.293229\n",
      "f -0.723731 -0.116928 -0.761694\n"
     ]
    }
   ],
   "source": [
    "print(df.bfill())\n",
    "print(df.ffill())"
   ]
  },
  {
   "cell_type": "code",
   "execution_count": null,
   "id": "88085ab2",
   "metadata": {},
   "outputs": [],
   "source": []
  }
 ],
 "metadata": {
  "kernelspec": {
   "display_name": "Python 3 (ipykernel)",
   "language": "python",
   "name": "python3"
  },
  "language_info": {
   "codemirror_mode": {
    "name": "ipython",
    "version": 3
   },
   "file_extension": ".py",
   "mimetype": "text/x-python",
   "name": "python",
   "nbconvert_exporter": "python",
   "pygments_lexer": "ipython3",
   "version": "3.11.4"
  }
 },
 "nbformat": 4,
 "nbformat_minor": 5
}
