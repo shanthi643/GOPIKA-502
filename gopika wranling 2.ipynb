{
 "cells": [
  {
   "cell_type": "code",
   "execution_count": 2,
   "id": "dd255ed6",
   "metadata": {},
   "outputs": [
    {
     "name": "stdout",
     "output_type": "stream",
     "text": [
      "Original DataFrame:\n",
      "    name  age gender marks\n",
      "0   sai   20      M    90\n",
      "1  yuva   18      F    76\n",
      "2   poo   19      M   NaN\n",
      "3  savi   20      F    74\n",
      "4  ruba   17      F    65\n",
      "5   raj   19      M   NaN\n",
      "6  ravi   21      M    71\n",
      "\n",
      " Replacing NaN,with average marks:\n",
      "    name  age gender  marks\n",
      "0   sai   20      M   90.0\n",
      "1  yuva   18      F   76.0\n",
      "2   poo   19      M   90.0\n",
      "3  savi   20      F   74.0\n",
      "4  ruba   17      F   65.0\n",
      "5   raj   19      M   90.0\n",
      "6  ravi   21      M   71.0\n",
      "\n",
      " Replacing NaN,with average marks:\n",
      "    name  age gender  marks\n",
      "0   sai   20      M   90.0\n",
      "1  yuva   18      F   76.0\n",
      "2   poo   19      M   90.0\n",
      "3  savi   20      F   74.0\n",
      "4  ruba   17      F   65.0\n",
      "5   raj   19      M   90.0\n",
      "6  ravi   21      M   71.0\n",
      "\n",
      " Replacing NaN,with average marks:\n",
      "    name  age gender  marks\n",
      "0   sai   20      M   90.0\n",
      "1  yuva   18      F   76.0\n",
      "2   poo   19      M   90.0\n",
      "3  savi   20      F   74.0\n",
      "4  ruba   17      F   65.0\n",
      "5   raj   19      M   90.0\n",
      "6  ravi   21      M   71.0\n",
      "\n",
      " Replacing NaN,with average marks:\n",
      "    name  age gender  marks\n",
      "0   sai   20      M   90.0\n",
      "1  yuva   18      F   76.0\n",
      "2   poo   19      M   90.0\n",
      "3  savi   20      F   74.0\n",
      "4  ruba   17      F   65.0\n",
      "5   raj   19      M   90.0\n",
      "6  ravi   21      M   71.0\n",
      "\n",
      " Replacing NaN,with average marks:\n",
      "    name  age gender  marks\n",
      "0   sai   20      M   90.0\n",
      "1  yuva   18      F   76.0\n",
      "2   poo   19      M   90.0\n",
      "3  savi   20      F   74.0\n",
      "4  ruba   17      F   65.0\n",
      "5   raj   19      M   90.0\n",
      "6  ravi   21      M   71.0\n",
      "\n",
      " Replacing NaN,with average marks:\n",
      "    name  age gender  marks\n",
      "0   sai   20      M   90.0\n",
      "1  yuva   18      F   76.0\n",
      "2   poo   19      M   90.0\n",
      "3  savi   20      F   74.0\n",
      "4  ruba   17      F   65.0\n",
      "5   raj   19      M   90.0\n",
      "6  ravi   21      M   71.0\n",
      "\n",
      " Replacing NaN,with average marks:\n",
      "    name  age gender  marks\n",
      "0   sai   20      M   90.0\n",
      "1  yuva   18      F   76.0\n",
      "2   poo   19      M   90.0\n",
      "3  savi   20      F   74.0\n",
      "4  ruba   17      F   65.0\n",
      "5   raj   19      M   90.0\n",
      "6  ravi   21      M   71.0\n"
     ]
    }
   ],
   "source": [
    "import pandas as pd\n",
    "#Asssign data\n",
    "data={'name':['sai','yuva','poo','savi','ruba','raj','ravi'],'age':[20,18,19,20,17,19,21],'gender':['M','F','M','F','F','M','M'],'marks':[90,76,'NaN',74,65,'NaN',71]}\n",
    "df=pd.DataFrame(data)\n",
    "print(\"Original DataFrame:\\n\",df)\n",
    "c=avg=0\n",
    "for ele in df['marks']:\n",
    "    if str(ele).isnumeric():\n",
    "        c+=1\n",
    "        avg+=ele\n",
    "    avg/=c\n",
    "    df=df.replace(to_replace='NaN',value=avg)\n",
    "    print(\"\\n Replacing NaN,with average marks:\\n\",df)\n"
   ]
  },
  {
   "cell_type": "code",
   "execution_count": 3,
   "id": "cf6a92d9",
   "metadata": {},
   "outputs": [
    {
     "name": "stdout",
     "output_type": "stream",
     "text": [
      "\n",
      " filtering and dropping function:\n",
      "    name gender  marks\n",
      "0   sai      M   90.0\n",
      "1  yuva      F   76.0\n",
      "2   poo      M   90.0\n",
      "5   raj      M   90.0\n"
     ]
    }
   ],
   "source": [
    "#filter top scoring students\n",
    "df=df[df['marks']>=75]\n",
    "#remove age row\n",
    "df=df.drop(['age'],axis=1)\n",
    "#display data\n",
    "print(\"\\n filtering and dropping function:\\n\",df)"
   ]
  },
  {
   "cell_type": "code",
   "execution_count": 4,
   "id": "b79cb41c",
   "metadata": {},
   "outputs": [
    {
     "name": "stdout",
     "output_type": "stream",
     "text": [
      "\n",
      " original DataFrame:\n",
      "    name subject_id  marks_scored\n",
      "1   sai       sub1            98\n",
      "2   raj       sub2            90\n",
      "3  yuva       sub3            92\n",
      "4   ram       sub4            85\n",
      "5   sam       sub5            89\n",
      "\n",
      " original DataFrame:\n",
      "     name subject_id  marks_scored\n",
      "1  sanju       sub2            73\n",
      "2   ravi       sub4            80\n",
      "3  shree       sub3            95\n",
      "4   niki       sub6            98\n",
      "5  rahul       sub5            79\n"
     ]
    }
   ],
   "source": [
    "one=pd.DataFrame({'name':['sai','raj','yuva','ram','sam'],'subject_id':['sub1','sub2','sub3','sub4','sub5'],'marks_scored':[98,90,92,85,89]},index=[1,2,3,4,5])\n",
    "two=pd.DataFrame({'name':['sanju','ravi','shree','niki','rahul'],'subject_id':['sub2','sub4','sub3','sub6','sub5'],'marks_scored':[73,80,95,98,79]},index=[1,2,3,4,5])\n",
    "print(\"\\n original DataFrame:\\n\",one)\n",
    "print(\"\\n original DataFrame:\\n\",two)"
   ]
  },
  {
   "cell_type": "code",
   "execution_count": null,
   "id": "9b65310d",
   "metadata": {},
   "outputs": [],
   "source": []
  }
 ],
 "metadata": {
  "kernelspec": {
   "display_name": "Python 3 (ipykernel)",
   "language": "python",
   "name": "python3"
  },
  "language_info": {
   "codemirror_mode": {
    "name": "ipython",
    "version": 3
   },
   "file_extension": ".py",
   "mimetype": "text/x-python",
   "name": "python",
   "nbconvert_exporter": "python",
   "pygments_lexer": "ipython3",
   "version": "3.11.4"
  }
 },
 "nbformat": 4,
 "nbformat_minor": 5
}
