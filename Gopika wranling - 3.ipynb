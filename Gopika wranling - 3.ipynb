{
 "cells": [
  {
   "cell_type": "code",
   "execution_count": 5,
   "id": "08cc9bdd",
   "metadata": {},
   "outputs": [
    {
     "name": "stdout",
     "output_type": "stream",
     "text": [
      "\n",
      " original DataFrame:\n",
      "        brand  year  sold\n",
      "0     maruti  2010     6\n",
      "1     maruti  2011     7\n",
      "2     maruti  2009     9\n",
      "3     maruti  2013     8\n",
      "4    hyundai  2010     3\n",
      "5    hyundai  2011     5\n",
      "6     toyota  2011     2\n",
      "7   mahandra  2010     8\n",
      "8   mahandra  2013     7\n",
      "9       ford  2010     2\n",
      "10    toyota  2010     4\n",
      "11      ford  2011     2\n",
      "\n",
      " Group by year:\n",
      "        brand  year  sold\n",
      "0     maruti  2010     6\n",
      "4    hyundai  2010     3\n",
      "7   mahandra  2010     8\n",
      "9       ford  2010     2\n",
      "10    toyota  2010     4\n"
     ]
    }
   ],
   "source": [
    "import pandas as pd\n",
    "car_selling_data={'brand':['maruti','maruti','maruti','maruti','hyundai','hyundai','toyota','mahandra','mahandra','ford','toyota','ford'],'year':[2010,2011,2009,2013,2010,2011,2011,2010,2013,2010,2010,2011],'sold':[6,7,9,8,3,5,2,8,7,2,4,2]}\n",
    "df=pd.DataFrame(car_selling_data)\n",
    "print(\"\\n original DataFrame:\\n\",df)\n",
    "grouped=df.groupby('year')\n",
    "print(\"\\n Group by year:\\n\",grouped.get_group(2010))"
   ]
  },
  {
   "cell_type": "code",
   "execution_count": 10,
   "id": "814efecc",
   "metadata": {},
   "outputs": [
    {
     "name": "stdout",
     "output_type": "stream",
     "text": [
      "\n",
      " original DataFrame:\n",
      "   name  rollno        email\n",
      "0    A      20  a@gmail.com\n",
      "1    B      25  b@gmail.com\n",
      "2    C      20  c@gmail.com\n",
      "3    D      32  d@gmail.com\n",
      "4    E      69  e@gmail.com\n",
      "5    F      32  f@gmail.com\n",
      "6    G      20  g@gmail.com\n",
      "7    H      35  h@gmail.com\n",
      "8    I      69  i@gmail.com\n",
      "9    J      17  j@gmail.com\n"
     ]
    }
   ],
   "source": [
    "studentdata={'name':['A','B','C','D','E','F','G','H','I','J'],'rollno':[20,25,20,32,69,32,20,35,69,17],'email':['a@gmail.com','b@gmail.com','c@gmail.com','d@gmail.com','e@gmail.com','f@gmail.com','g@gmail.com','h@gmail.com','i@gmail.com','j@gmail.com']}\n",
    "df=pd.DataFrame(studentdata)\n",
    "print(\"\\n original DataFrame:\\n\",df)"
   ]
  },
  {
   "cell_type": "code",
   "execution_count": 12,
   "id": "00cb15fa",
   "metadata": {},
   "outputs": [
    {
     "name": "stdout",
     "output_type": "stream",
     "text": [
      "\n",
      " Removed duplicate rows:\n",
      "   name  rollno        email\n",
      "0    A      20  a@gmail.com\n",
      "1    B      25  b@gmail.com\n",
      "2    C      20  c@gmail.com\n",
      "3    D      32  d@gmail.com\n",
      "4    E      69  e@gmail.com\n",
      "5    F      32  f@gmail.com\n",
      "6    G      20  g@gmail.com\n",
      "7    H      35  h@gmail.com\n",
      "8    I      69  i@gmail.com\n",
      "9    J      17  j@gmail.com\n"
     ]
    }
   ],
   "source": [
    "non_duplicate=df[df.duplicated('rollno')]\n",
    "print(\"\\n Removed duplicate rows:\\n\",df)"
   ]
  },
  {
   "cell_type": "code",
   "execution_count": null,
   "id": "e1da9a08",
   "metadata": {},
   "outputs": [],
   "source": []
  }
 ],
 "metadata": {
  "kernelspec": {
   "display_name": "Python 3 (ipykernel)",
   "language": "python",
   "name": "python3"
  },
  "language_info": {
   "codemirror_mode": {
    "name": "ipython",
    "version": 3
   },
   "file_extension": ".py",
   "mimetype": "text/x-python",
   "name": "python",
   "nbconvert_exporter": "python",
   "pygments_lexer": "ipython3",
   "version": "3.11.4"
  }
 },
 "nbformat": 4,
 "nbformat_minor": 5
}
