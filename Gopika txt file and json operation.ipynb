{
 "cells": [
  {
   "cell_type": "code",
   "execution_count": 1,
   "id": "39cca693",
   "metadata": {},
   "outputs": [],
   "source": [
    "f=open(\"/users/student/Downloads/ data.txt\",\"w\")\n",
    "f.write(\"sai\\n\")\n",
    "f.write(\"raj\\n\")\n",
    "f.write(\"john\\n\")\n",
    "f.close()"
   ]
  },
  {
   "cell_type": "code",
   "execution_count": 2,
   "id": "65a99c90",
   "metadata": {},
   "outputs": [
    {
     "name": "stdout",
     "output_type": "stream",
     "text": [
      "sai\n",
      "\n",
      "raj\n",
      "\n",
      "john\n",
      "\n"
     ]
    }
   ],
   "source": [
    "a=open(\"/users/student/Downloads/ data.txt\",\"r\")\n",
    "print(a.readline())\n",
    "print(a.readline())\n",
    "print(a.readline())\n",
    "a.close()"
   ]
  },
  {
   "cell_type": "code",
   "execution_count": 23,
   "id": "e52fd0c4",
   "metadata": {},
   "outputs": [],
   "source": [
    "b=open(\"/Users/student/Downloads/ data.txt\",\"a\")\n",
    "b.write(\"ram\\n\")\n",
    "b.write(\"kumar\\n\")\n",
    "b.close()"
   ]
  },
  {
   "cell_type": "code",
   "execution_count": 24,
   "id": "a2641420",
   "metadata": {},
   "outputs": [
    {
     "name": "stdout",
     "output_type": "stream",
     "text": [
      "sai\n",
      "raj\n",
      "john\n",
      "ram\n",
      "kumar\n",
      "\n"
     ]
    }
   ],
   "source": [
    "c=open(\"/Users/student/Downloads/ data.txt\",\"r\")\n",
    "print(c.read())\n",
    "c.close()"
   ]
  },
  {
   "cell_type": "code",
   "execution_count": 25,
   "id": "2bae07f2",
   "metadata": {},
   "outputs": [
    {
     "name": "stdout",
     "output_type": "stream",
     "text": [
      "sai\n",
      "\n"
     ]
    }
   ],
   "source": [
    "with open(\"/Users/student/Downloads/ data.txt\",\"r\")as file:\n",
    "    lines=file.readline()\n",
    "    print(lines)"
   ]
  },
  {
   "cell_type": "code",
   "execution_count": null,
   "id": "e3c05aa2",
   "metadata": {},
   "outputs": [],
   "source": []
  },
  {
   "cell_type": "code",
   "execution_count": 30,
   "id": "9e9e3fcc",
   "metadata": {},
   "outputs": [
    {
     "name": "stdout",
     "output_type": "stream",
     "text": [
      "london\n"
     ]
    }
   ],
   "source": [
    "import json\n",
    "x='{\"name\":\"raj\",\"age\":20,\"city\":\"london\"}'\n",
    "y=json.loads(x)\n",
    "print(y[\"city\"])"
   ]
  },
  {
   "cell_type": "code",
   "execution_count": 31,
   "id": "023db80e",
   "metadata": {},
   "outputs": [
    {
     "name": "stdout",
     "output_type": "stream",
     "text": [
      "\"{\\\"name\\\":\\\"raj\\\",\\\"age\\\":20,\\\"city\\\":\\\"london\\\"}\"\n"
     ]
    }
   ],
   "source": [
    "x='{\"name\":\"raj\",\"age\":20,\"city\":\"london\"}'\n",
    "y=json.dumps(x)\n",
    "print(y)"
   ]
  },
  {
   "cell_type": "code",
   "execution_count": null,
   "id": "87967aed",
   "metadata": {},
   "outputs": [],
   "source": []
  }
 ],
 "metadata": {
  "kernelspec": {
   "display_name": "Python 3 (ipykernel)",
   "language": "python",
   "name": "python3"
  },
  "language_info": {
   "codemirror_mode": {
    "name": "ipython",
    "version": 3
   },
   "file_extension": ".py",
   "mimetype": "text/x-python",
   "name": "python",
   "nbconvert_exporter": "python",
   "pygments_lexer": "ipython3",
   "version": "3.11.4"
  }
 },
 "nbformat": 4,
 "nbformat_minor": 5
}
