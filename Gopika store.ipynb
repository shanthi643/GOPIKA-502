{
 "cells": [
  {
   "cell_type": "code",
   "execution_count": 2,
   "id": "6975be76",
   "metadata": {},
   "outputs": [
    {
     "name": "stdout",
     "output_type": "stream",
     "text": [
      "       a  b  c\n",
      "One    1  2  3\n",
      "two    4  5  6\n",
      "three  7  8  9\n"
     ]
    }
   ],
   "source": [
    "import pandas as pd \n",
    "df=pd.DataFrame([[1,2,3],[4,5,6],[7,8,9]],index=['One','two','three'],columns=['a','b','c'])\n",
    "print(df)"
   ]
  },
  {
   "cell_type": "code",
   "execution_count": 8,
   "id": "8108b1e8",
   "metadata": {},
   "outputs": [],
   "source": [
    "df.to_excel(\"/Users/student/Downloads\\data1.xlsx\")\n",
    "df.to_excel(\"/Users/student/Downloads/data2.xlsx\")"
   ]
  },
  {
   "cell_type": "code",
   "execution_count": 10,
   "id": "9339e85c",
   "metadata": {},
   "outputs": [],
   "source": [
    "df=pd.DataFrame([[10,20,30],[40,50,60],[70,80,90]],index=['four','five','six'],columns=['x','y','z'])\n",
    "df.to_excel(\"/Users/student/Downloads\\data1.xlsx\")\n",
    "df=pd.DataFrame([[6,7],[1,2]],index=['a','b'],columns=['x','y'])\n",
    "df.to_excel(\"/Users/student/Downloads/data2.xlsx\")\n",
    "x=pd.read_excel(\"/Users/student/Downloads\\data1.xlsx\")\n",
    "y=pd.read_excel(\"/Users/student/Downloads\\data1.xlsx\")\n",
    "z=pd.concat([x,y])\n",
    "z.to_excel(\"/Users/student/Downloads/data3.xlsx\")"
   ]
  },
  {
   "cell_type": "code",
   "execution_count": 14,
   "id": "c12b60ad",
   "metadata": {},
   "outputs": [
    {
     "name": "stdout",
     "output_type": "stream",
     "text": [
      "  Unnamed: 0   x   y   z\n",
      "0       four  10  20  30\n",
      "0       four  10  20  30\n",
      "1       five  40  50  60\n",
      "1       five  40  50  60\n",
      "2        six  70  80  90\n",
      "2        six  70  80  90\n",
      "  Unnamed: 0   x   y   z\n",
      "0       four  10  20  30\n",
      "0       four  10  20  30\n",
      "1       five  40  50  60\n",
      "1       five  40  50  60\n",
      "2        six  70  80  90\n",
      "2        six  70  80  90\n"
     ]
    }
   ],
   "source": [
    "df=z.sort_values([\"x\"])\n",
    "print(df)\n",
    "df.to_excel(\"/Users/student/Downloads/data3.xlsx\")\n",
    "df=z.sort_values([\"y\"])\n",
    "print(df)\n",
    "df.to_excel(\"/Users/student/Downloads/data3.xlsx\")"
   ]
  },
  {
   "cell_type": "code",
   "execution_count": 2,
   "id": "5ae80173",
   "metadata": {},
   "outputs": [
    {
     "name": "stdout",
     "output_type": "stream",
     "text": [
      "   Unnamed: 0.1 Unnamed: 0   x   y   z\n",
      "0             0       four  10  20  30\n",
      "1             0       four  10  20  30\n",
      "2             1       five  40  50  60\n",
      "3             1       five  40  50  60\n",
      "4             2        six  70  80  90\n",
      "5             2        six  70  80  90\n",
      "['Unnamed: 0.1', 'Unnamed: 0', 'x', 'y', 'z']\n",
      "6\n"
     ]
    }
   ],
   "source": [
    "import pandas as pd\n",
    "df=pd.read_excel(\"/Users/student/Downloads/data3.xlsx\")\n",
    "print(df)\n",
    "print(list(df))\n",
    "print(format(len(df)))"
   ]
  },
  {
   "cell_type": "code",
   "execution_count": null,
   "id": "755b0bea",
   "metadata": {},
   "outputs": [],
   "source": []
  }
 ],
 "metadata": {
  "kernelspec": {
   "display_name": "Python 3 (ipykernel)",
   "language": "python",
   "name": "python3"
  },
  "language_info": {
   "codemirror_mode": {
    "name": "ipython",
    "version": 3
   },
   "file_extension": ".py",
   "mimetype": "text/x-python",
   "name": "python",
   "nbconvert_exporter": "python",
   "pygments_lexer": "ipython3",
   "version": "3.11.4"
  }
 },
 "nbformat": 4,
 "nbformat_minor": 5
}
