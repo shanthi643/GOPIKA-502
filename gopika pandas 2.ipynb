{
 "cells": [
  {
   "cell_type": "code",
   "execution_count": 1,
   "id": "2e02208d",
   "metadata": {},
   "outputs": [
    {
     "name": "stdout",
     "output_type": "stream",
     "text": [
      "DataFrame.applyfunction:\n",
      "\n",
      "\n",
      " original DataFrame:\n",
      "    S  R\n",
      "0  3  9\n",
      "1  3  9\n",
      "2  3  9\n",
      "3  3  9\n",
      "\n",
      " squareroot of DataFrame\n",
      "           S    R\n",
      "0  1.732051  3.0\n",
      "1  1.732051  3.0\n",
      "2  1.732051  3.0\n",
      "3  1.732051  3.0\n",
      "\n",
      " sum of each columns\n",
      " S    12\n",
      "R    36\n",
      "dtype: int64\n",
      "\n",
      " sum of each rows\n",
      " 0    12\n",
      "1    12\n",
      "2    12\n",
      "3    12\n",
      "dtype: int64\n"
     ]
    }
   ],
   "source": [
    "import pandas as pd\n",
    "import numpy as np\n",
    "print(\"DataFrame.applyfunction:\\n\")\n",
    "info=pd.DataFrame([[3,9]]*4,columns=['S','R'])\n",
    "print(\"\\n original DataFrame:\\n\",info)\n",
    "print(\"\\n squareroot of DataFrame\\n\",info.apply(np.sqrt))\n",
    "print(\"\\n sum of each columns\\n\",info.apply(np.sum,axis=0))\n",
    "print(\"\\n sum of each rows\\n\",info.apply(np.sum,axis=1))"
   ]
  },
  {
   "cell_type": "code",
   "execution_count": 2,
   "id": "6fe6992f",
   "metadata": {},
   "outputs": [
    {
     "name": "stdout",
     "output_type": "stream",
     "text": [
      "\n",
      " original DataFrame:\n",
      "    X  Y  Z\n",
      "0  2  4  6\n",
      "1  1  3  5\n",
      "2  5  8  7\n",
      "\n",
      " minimum and maximum of each columns:\n",
      "\n",
      "     X  Y  Z\n",
      "min  1  3  5\n",
      "max  5  8  7\n"
     ]
    }
   ],
   "source": [
    "info=pd.DataFrame([[2,4,6],[1,3,5],[5,8,7]],columns=['X','Y','Z'])\n",
    "print(\"\\n original DataFrame:\\n\",info)\n",
    "print(\"\\n minimum and maximum of each columns:\\n\")\n",
    "print(info.agg(['min','max']))"
   ]
  },
  {
   "cell_type": "code",
   "execution_count": 8,
   "id": "1b807cf9",
   "metadata": {},
   "outputs": [
    {
     "name": "stdout",
     "output_type": "stream",
     "text": [
      "\n",
      " DataFrame.Assign function:\n",
      " \n",
      "\n",
      " original DataFrame:\n",
      "         0   1\n",
      "0  sudeep  88\n",
      "1  vinith  70\n",
      "\n",
      " adding new columns:\n",
      "         0   1  AGE\n",
      "0  sudeep  88   20\n",
      "1  vinith  70   18\n",
      "\n",
      " adding new columns:\n",
      "         0   1  AGE   sex\n",
      "0  sudeep  88   20  Male\n",
      "1  vinith  70   18  Male\n"
     ]
    }
   ],
   "source": [
    "print(\"\\n DataFrame.Assign function:\\n \")\n",
    "d2=pd.DataFrame([['sudeep',88],['vinith',70]])\n",
    "columns=(['EMP','ID'])\n",
    "print(\"\\n original DataFrame:\\n\",d2)\n",
    "d2['AGE']=[20,18]\n",
    "print(\"\\n adding new columns:\\n\",d2)\n",
    "d=d2.assign(sex=['Male','Male'])\n",
    "print(\"\\n adding new columns:\\n\",d)"
   ]
  },
  {
   "cell_type": "code",
   "execution_count": 12,
   "id": "ff0c5edd",
   "metadata": {},
   "outputs": [
    {
     "name": "stdout",
     "output_type": "stream",
     "text": [
      "\n",
      " DataFrame.SortFunction:\n",
      "\n",
      "          A         B\n",
      "3 -0.070744  0.892522\n",
      "2 -0.211031 -0.770900\n",
      "0 -0.626921  0.005654\n",
      "4 -0.521847 -0.674588\n",
      "1  0.060992 -0.343201\n",
      "\n",
      " sort index:\n",
      "           A         B\n",
      "0 -0.626921  0.005654\n",
      "1  0.060992 -0.343201\n",
      "2 -0.211031 -0.770900\n",
      "3 -0.070744  0.892522\n",
      "4 -0.521847 -0.674588\n",
      "\n",
      " sort values:\n",
      "           A         B\n",
      "0 -0.626921  0.005654\n",
      "4 -0.521847 -0.674588\n",
      "2 -0.211031 -0.770900\n",
      "3 -0.070744  0.892522\n",
      "1  0.060992 -0.343201\n"
     ]
    }
   ],
   "source": [
    "import pandas as pd\n",
    "import numpy as np\n",
    "print(\"\\n DataFrame.SortFunction:\\n\")\n",
    "info=pd.DataFrame(np.random.randn(5,2),index=[3,2,0,4,1],columns=['A','B'])\n",
    "print(info)\n",
    "info2=info.sort_index()\n",
    "print(\"\\n sort index:\\n\",info2)\n",
    "info3=info.sort_values(by='A')\n",
    "print(\"\\n sort values:\\n\",info3)"
   ]
  },
  {
   "cell_type": "code",
   "execution_count": 13,
   "id": "7b22da83",
   "metadata": {},
   "outputs": [
    {
     "name": "stdout",
     "output_type": "stream",
     "text": [
      "\n",
      " DataFrame Merge Function:\n",
      "\n",
      "   id  NAME   sub\n",
      "0   1   sai  sub1\n",
      "1   2  ravi  sub2\n",
      "2   3  pavi  sub4\n",
      "3   4  yash  sub3\n",
      "   id    NAME   sub\n",
      "0   1  sanjay  sub1\n",
      "1   2    ravi  sub4\n",
      "2   3  selvan  sub3\n",
      "3   4    raju  sub2\n",
      "   id NAME_x sub_x  NAME_y sub_y\n",
      "0   1    sai  sub1  sanjay  sub1\n",
      "1   2   ravi  sub2    ravi  sub4\n",
      "2   3   pavi  sub4  selvan  sub3\n",
      "3   4   yash  sub3    raju  sub2\n"
     ]
    }
   ],
   "source": [
    "print(\"\\n DataFrame Merge Function:\\n\")\n",
    "left=pd.DataFrame({'id':[1,2,3,4],'NAME':['sai','ravi','pavi','yash'],'sub':['sub1','sub2','sub4','sub3']})\n",
    "right=pd.DataFrame({'id':[1,2,3,4],'NAME':['sanjay','ravi','selvan','raju'],'sub':['sub1','sub4','sub3','sub2']})\n",
    "print(left)\n",
    "print(right)\n",
    "print(pd.merge(left,right,on='id'))"
   ]
  },
  {
   "cell_type": "code",
   "execution_count": null,
   "id": "abf9ae7e",
   "metadata": {},
   "outputs": [],
   "source": []
  }
 ],
 "metadata": {
  "kernelspec": {
   "display_name": "Python 3 (ipykernel)",
   "language": "python",
   "name": "python3"
  },
  "language_info": {
   "codemirror_mode": {
    "name": "ipython",
    "version": 3
   },
   "file_extension": ".py",
   "mimetype": "text/x-python",
   "name": "python",
   "nbconvert_exporter": "python",
   "pygments_lexer": "ipython3",
   "version": "3.11.4"
  }
 },
 "nbformat": 4,
 "nbformat_minor": 5
}
